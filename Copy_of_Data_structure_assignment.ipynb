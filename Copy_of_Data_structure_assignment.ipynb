{
  "nbformat": 4,
  "nbformat_minor": 0,
  "metadata": {
    "colab": {
      "provenance": []
    },
    "kernelspec": {
      "name": "python3",
      "display_name": "Python 3"
    },
    "language_info": {
      "name": "python"
    }
  },
  "cells": [
    {
      "cell_type": "code",
      "source": [
        "#1.discuss string slicing and provide example.\n",
        "\n",
        "\"\"\"ans-> String slicing allows you to extract a portion (substring)\n",
        " of a string by specifying a range of indices.\n",
        " Python strings are indexed starting from 0.\n",
        " Each character in a string has a corresponding index,\n",
        " which you can use to slice the string\"\"\"\n",
        " #example\n",
        "text = \"Hello, World!\"\n",
        "sliced_text = text[0:5]\n",
        "print(sliced_text)"
      ],
      "metadata": {
        "colab": {
          "base_uri": "https://localhost:8080/"
        },
        "id": "feHMtUVw0qSj",
        "outputId": "e046d49f-47c8-45e6-c6b3-0c2101024c3a"
      },
      "execution_count": null,
      "outputs": [
        {
          "output_type": "stream",
          "name": "stdout",
          "text": [
            "Hello\n"
          ]
        }
      ]
    },
    {
      "cell_type": "code",
      "source": [
        "#2.explain key feature of list in python.\n",
        "#Here are some key features of Python lists:\n",
        "#1. Ordered-->Lists maintain the order of the elements as they are inserted. You can access elements using their index positions.\n",
        "fruits=[\"apple\", \"banana\", \"cherry\"]\n",
        "print(fruits[1])\n",
        "#2.Mutable-->Lists are mutable, meaning you can change, add, or remove items after the list has been created.\n",
        "fruits = [\"apple\", \"banana\", \"cherry\"]\n",
        "fruits[1] = \"orange\"\n",
        "print(fruits)  # Outputs: ['apple', 'orange', 'cherry']\n",
        "#3.Allows Duplicates-->Lists allow multiple items with the same value, so you can have duplicates in the list.\n",
        "numbers = [1, 2, 3, 2, 4, 5]\n",
        "print(numbers)  # Outputs: [1, 2, 3, 2, 4, 5]\n",
        "#4.Can Store Heterogeneous Data Types-->Lists can contain elements of different data types (e.g., integers, strings, floats, or even other lists).\n",
        "mixed_list = [1, \"apple\", 3.14, [2, 3]]\n",
        "print(mixed_list)  # Outputs: [1, 'apple', 3.14, [2, 3]]\n",
        "#5. Indexing and Slicing-->Lists support indexing and slicing just like strings. You can access individual elements using positive or negative indices and extract sublists using slicing.\n",
        "numbers = [10, 20, 30, 40, 50]\n",
        "print(numbers[2])\n",
        "print(numbers[-1])\n",
        "print(numbers[1:4])\n",
        "#6.Dynamic Size-->Lists are dynamic, meaning they can grow or shrink in size as elements are added or removed.\n",
        "colors = [\"red\", \"green\"]\n",
        "colors.append(\"blue\")\n",
        "colors.remove(\"red\")\n",
        "print(colors)\n"
      ],
      "metadata": {
        "colab": {
          "base_uri": "https://localhost:8080/"
        },
        "id": "uZ7je3yhs56n",
        "outputId": "8804298d-f967-45a9-c7c7-7f7fc5c8b48b"
      },
      "execution_count": null,
      "outputs": [
        {
          "output_type": "stream",
          "name": "stdout",
          "text": [
            "banana\n",
            "['apple', 'orange', 'cherry']\n",
            "[1, 2, 3, 2, 4, 5]\n",
            "[1, 'apple', 3.14, [2, 3]]\n",
            "30\n",
            "50\n",
            "[20, 30, 40]\n",
            "['green', 'blue']\n"
          ]
        }
      ]
    },
    {
      "cell_type": "code",
      "source": [
        "#3.describe how to access,modify and delete element in a list with example\n",
        "#answer\n",
        "#1. Accessing Elements in a List-->You can access elements in a list using indexing. Python uses zero-based indexing, meaning the first element is at index 0, the second element at 1, and so on. Negative indexing can be used to access elements from the end of the list.\n",
        "# List of fruits\n",
        "fruits = [\"apple\", \"banana\", \"cherry\", \"orange\"]\n",
        "\n",
        "print(fruits[1])\n",
        "\n",
        "print(fruits[-1])\n",
        "\n",
        "#2. Modifying Elements in a List-->You can modify elements of a list by directly assigning new values to an index.\n",
        "\n",
        "fruits = [\"apple\", \"banana\", \"cherry\", \"orange\"]\n",
        "fruits[1] = \"blueberry\"\n",
        "print(fruits)\n",
        "\n",
        "#3. Deleting Elements in a List-->You can delete elements from a list using several methods:\n",
        "\n",
        "# Deleting a single element by index\n",
        "numbers = [1, 2, 3, 4, 5]\n",
        "del numbers[2]\n",
        "print(numbers)\n",
        "\n",
        "# Deleting a range of elements\n",
        "del numbers[1:3]\n",
        "print(numbers)\n",
        "\n",
        "# Removing by value\n",
        "fruits = [\"apple\", \"banana\", \"cherry\", \"apple\"]\n",
        "fruits.remove(\"apple\")\n",
        "print(fruits)\n",
        "\n",
        "# Clear all elements from the list\n",
        "fruits = [\"apple\", \"banana\", \"cherry\"]\n",
        "fruits.clear()\n",
        "print(fruits)\n"
      ],
      "metadata": {
        "id": "zwZd0_1mua0U"
      },
      "execution_count": null,
      "outputs": []
    },
    {
      "cell_type": "code",
      "source": [
        "#4.Compare and contrast tuples and lists with example\n",
        "#answer\n",
        "\n",
        "#Comparison of Tuples and Lists in Python\n",
        "\n",
        "#Mutability\n",
        "#List: Mutable, meaning elements can be changed after the list is created. You can modify, add, or remove elements.\n",
        "my_list = [1, 2, 3]\n",
        "my_list[1] = 20  # Changing the second element\n",
        "print(my_list)  # Output: [1, 20, 3]\n",
        "\n",
        "#Tuple: Immutable, meaning once a tuple is created, you cannot modify its elements. Any attempt to change a value will result in an error.\n",
        "my_tuple = (1, 2, 3)\n",
        "# my_tuple[1] = 20\n",
        "\n",
        "#2. Syntax\n",
        "#List: Defined using square brackets [ ]\n",
        "#Tuple: Defined using parentheses ( )\n",
        "my_list = [1, 2, 3]\n",
        "my_tuple = (1, 2, 3)\n",
        "\n",
        "#3. Performance\n",
        "#List: Slightly slower than tuples in operations like iteration or accessing elements. This is because lists are mutable, and extra memory management is required.\n",
        "#Tuple: Faster than lists due to immutability. Since tuples cannot be changed, Python optimizes them in terms of memory and performance.\n",
        "\n",
        "#4.Use Cases\n",
        "#List: Ideal when you need a sequence of items that can change over time, such as when you need to modify, append, or remove elements frequently.\n",
        "shopping_list = [\"milk\", \"bread\", \"eggs\"]\n",
        "shopping_list.append(\"butter\")\n",
        "print(shopping_list)\n",
        "\n",
        "#Tuple: Ideal when you need a fixed sequence of items that should not change. Tuples are often used to represent constant sets of data (like coordinates or days of the week).\n",
        "coordinates = (10.5, 20.3)\n",
        "days_of_week = (\"Monday\", \"Tuesday\", \"Wednesday\", \"Thursday\", \"Friday\")\n"
      ],
      "metadata": {
        "id": "tAIyw8trvRpA"
      },
      "execution_count": null,
      "outputs": []
    },
    {
      "cell_type": "code",
      "source": [
        "#5.Describe the key features of sets and provide example and their use.\n",
        "#answer\n",
        "#Key Features of Sets in Python\n",
        "#1. Unordered Collection-->Sets are unordered, which means that the elements have no defined order. You cannot access set elements by index, unlike lists or tuples.\n",
        "my_set = {1, 2, 3, 4}\n",
        "print(my_set)\n",
        "#2. Unique Elements-->Sets only store unique elements. If you try to add duplicate elements, they will be automatically discarded.\n",
        "my_set = {1, 2, 3, 3, 4}\n",
        "print(my_set)\n",
        "#3. Mutable (but with Immutable Elements)-->Sets are mutable, meaning you can add or remove elements from them after creation.However, the elements of a set must be immutable (like numbers, strings, or tuples). Mutable elements like lists cannot be part of a set.\n",
        "my_set = {1, 2, 3}\n",
        "my_set.add(4)\n",
        "print(my_set)\n",
        "#4. No Duplicates-->Sets automatically eliminate duplicates, making them useful when you need to store distinct values.\n",
        "numbers = [1, 2, 2, 3, 4, 4, 5]\n",
        "unique_numbers = set(numbers)\n",
        "print(unique_numbers)\n",
        "\n",
        "\n"
      ],
      "metadata": {
        "colab": {
          "base_uri": "https://localhost:8080/"
        },
        "id": "a1D0eTWNviiZ",
        "outputId": "5fffc87f-95f7-4c9d-dafc-fe561fb3f606"
      },
      "execution_count": null,
      "outputs": [
        {
          "output_type": "stream",
          "name": "stdout",
          "text": [
            "{1, 2, 3, 4}\n",
            "{1, 2, 3, 4}\n",
            "{1, 2, 3, 4}\n",
            "{1, 2, 3, 4, 5}\n"
          ]
        }
      ]
    },
    {
      "cell_type": "code",
      "source": [
        "#6.discuss the cases of tuples and sets in python programming.\n",
        "#answer\n",
        "#Use Cases of Tuples\n",
        "#1. Returning Multiple Values from Functions-->Tuples allow you to return multiple values from a function in a single return statement.\n",
        "def calculate(a, b):\n",
        "    return a + b, a * b\n",
        "\n",
        "result = calculate(5, 3)\n",
        "print(result)\n",
        "#2. Using Tuples as Dictionary Keys-->Since tuples are immutable, they can be used as keys in a dictionary\n",
        "locations = {(37.7749, -122.4194): \"San Francisco\", (40.7128, -74.0060): \"New York\"}\n",
        "print(locations[(37.7749, -122.4194)])\n",
        "\n",
        "#3. Data Integrity-->Use tuples when you want to ensure that the data will not change after creation.\n",
        "transaction = (\"2023-08-25\", \"Deposit\", 5000)\n",
        "\n",
        "#4.Packing and Unpacking Data-->Tuples allow for packing and unpacking of values.\n",
        "point = (10, 20)\n",
        "x, y = point\n",
        "print(x)\n",
        "print(y)\n",
        "\n",
        "\n",
        "#Use Cases of Sets\n",
        "#1. Removing Duplicates from a Collection-->A set automatically removes duplicate elements. If you have a list or any other collection with duplicates, converting it into a set will eliminate all duplicates\n",
        "numbers = [1, 2, 2, 3, 4, 4, 5]\n",
        "unique_numbers = set(numbers)\n",
        "print(unique_numbers)\n",
        "#2. Membership Testing-->Sets provide fast membership testing\n",
        "valid_ids = {101, 102, 103, 104}\n",
        "if 102 in valid_ids:\n",
        "    print(\"ID is valid\")\n",
        "#3.Mathematical Set Operations-->Sets allow you to easily perform mathematical set operations such as union, intersection, difference, and symmetric difference.\n",
        "set_a = {1, 2, 3, 4}\n",
        "set_b = {3, 4, 5, 6}\n",
        "\n",
        "print(set_a | set_b)\n",
        "print(set_a & set_b)\n",
        "print(set_a - set_b)\n",
        "print(set_a ^ set_b)\n",
        "\n",
        "#4. Ensuring Unique Entries in Collections-->When you want to ensure that a collection of items contains only unique elements, sets are a natural fit.\n",
        "usernames = {\"john_doe\", \"alice_w\", \"bob_s\"}\n",
        "usernames.add(\"john_doe\")\n",
        "print(usernames)\n",
        "\n",
        "\n",
        "\n"
      ],
      "metadata": {
        "id": "LtT4kmVXv9VU"
      },
      "execution_count": null,
      "outputs": []
    },
    {
      "cell_type": "code",
      "source": [
        "#7.describe how to add,modify and delete items in a dictionary with examples.\n",
        "#answer\n",
        "#1. Adding Items to a Dictionary\n",
        "\n",
        "my_dict = {}\n",
        "\n",
        "my_dict['name'] = 'Alice'\n",
        "my_dict['age'] = 25\n",
        "my_dict['city'] = 'New York'\n",
        "\n",
        "print(my_dict)\n",
        "\n",
        "#2. Modifying Items in a Dictionary\n",
        "\n",
        "my_dict['age'] = 26\n",
        "print(my_dict)\n",
        "\n",
        "#3. Deleting Items from a Dictionary\n",
        "# Deleting an item by key\n",
        "my_dict=({'profession': 'Engineer', 'hobby': 'Painting'})\n",
        "del my_dict['hobby']\n",
        "print(my_dict)\n",
        "\n",
        "my_dict.clear()\n",
        "print(my_dict)\n"
      ],
      "metadata": {
        "colab": {
          "base_uri": "https://localhost:8080/"
        },
        "id": "diemfvm8v-Ss",
        "outputId": "2373521f-a751-4810-d187-4ef6db645552"
      },
      "execution_count": null,
      "outputs": [
        {
          "output_type": "stream",
          "name": "stdout",
          "text": [
            "{'name': 'Alice', 'age': 25, 'city': 'New York'}\n",
            "{'name': 'Alice', 'age': 26, 'city': 'New York'}\n",
            "{'profession': 'Engineer'}\n",
            "{}\n"
          ]
        }
      ]
    },
    {
      "cell_type": "code",
      "source": [
        "#8.discuss the importance of dictionary keys being immutable and provide example.\n",
        "#answer\n",
        "#In Python, dictionary keys must be immutable because the underlying data structure that implements dictionaries (a hash table) requires keys to remain unchanged in order to maintain data integrity and ensure fast lookups. Immutability guarantees that the hash value of the key (which is used to index the dictionary) remains constant, allowing for efficient access, storage, and retrieval of values.\n",
        "#1. Hashing and Dictionaries-->Python dictionaries use a data structure known as a hash table to map keys to values. When you add a key-value pair to a dictionary, Python computes a hash value for the key using the hash() function, which helps in quickly locating the corresponding value.\n",
        "#2. Mutable Objects as Keys Would Break Dictionary Functionality-->If mutable types (like lists or dictionaries) were allowed as dictionary keys, and you modified the key after it was added to the dictionary, it would affect the way the dictionary locates the associated value, leading to incorrect results or errors. This is because the hash of the modified key would no longer match the original hash that was computed when the key was first added to the dictionary.\n",
        "my_dict = {[1, 2, 3]: \"This is a list\"}\n",
        "#3. Example of Using Immutable Keys-->Immutable types, such as integers, strings, and tuples (with immutable elements), are commonly used as dictionary keys because their values cannot be changed after creation. This immutability ensures that the key's hash value remains constant, allowing Python to retrieve values quickly.\n",
        "\n",
        "my_dict = {\n",
        "    'name': 'Alice',\n",
        "    42: 'Answer',\n",
        "    (1, 2): 'Point'\n",
        "}\n",
        "\n",
        "print(my_dict['name'])\n",
        "print(my_dict[42])\n",
        "print(my_dict[(1, 2)])\n",
        "#4..5. Immutable Keys Ensure Dictionary Reliability\n",
        "\"\"\"Consistency: When keys are immutable, Python can rely on consistent hashing, ensuring that lookups are efficient and reliable.\n",
        "Speed: The immutability of keys allows the hash table to maintain its performance characteristics, as there is no risk of hash collisions caused by changing keys.\n",
        "Data Integrity: Immutability enforces data integrity, as changing a key could lead to data corruption or loss (since the key would no longer point to the correct value).\"\"\""
      ],
      "metadata": {
        "id": "ycWw_d2BwlS2"
      },
      "execution_count": null,
      "outputs": []
    }
  ]
}